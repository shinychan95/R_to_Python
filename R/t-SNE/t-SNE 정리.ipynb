{
 "cells": [
  {
   "cell_type": "markdown",
   "metadata": {},
   "source": [
    "# 코드 실행에 앞서 배경지식 정리\n",
    "### [t-SNE](https://ratsgo.github.io/machine%20learning/2017/04/28/tSNE/)\n",
    "- 데이터 차원숙소와 시각화 방법론으로 널리 쓰이는 방법,\n",
    "- 단어 벡터와 같이 고차원 데이터를 시각화하는 데 가장 인기있는 알고리즘이기도 하다.\n",
    "\n",
    "### SNE(Stochastic Neighbot Embedding)\n",
    "- 고차원의 원공간에서 존재하는 데이터 x의 이웃 간의 거리를 최대한으로 보존하는 저차원의 y를 학습하는 방법론.\n",
    "- stochastic이란 이름이 붙은 이유는 거리 정보를 확률적으로 나타내기 때문.\n",
    "![formula.png](./images/formula.PNG)\n",
    "- 첫번째 식의 p는 고차원 원공간에 존재하는 i번째 개체 xi가 주어졌을 때 j번째 이웃인 xj가 선택될 확률을 의미합니다. 두번째 식의 q는 저차원-에 임베딩된 i번째 개체 yi가 주어졌을 때 j번째 이웃인 yj가 선택될 확률을 뜻합니다. <br>\n",
    "- SNE의 목적은 p와 q의 분포 차이가 최대한 작게끔 하고자 합니다. 차원축소가 제대로 잘 이뤄졌다면 고차원 공간에서 이웃으로 뽑힐 확률과 저차원 공간에서 선택될 확률이 비슷할테니까요.<br>\n",
    "- 두 확률분포가 얼마나 비슷한지 측정하는 지표로 Kullback-Leibler divergence라는 것이 있습니다. 두 분포가 완전히 다르면 1, 동일하면 0의 값을 갖게 되는데요, SNE는 아래 비용함수를 최소화하는 방향으로 학습을 진행하게 됩니다.\n",
    "![formula2.png](./images/formula2.PNG)\n",
    "- 계산 속도를 높이기 위해 몇 가지 학습 트릭을 도입한 비용함수\n",
    "![formula3.png](./images/formula3.PNG)\n",
    "\n",
    "### Crowding Problem과 t-SNE\n",
    "- SNE가 전제하는 확률분포는 가우시안 분포입니다. 그런데 가우시안 분포는 꼬리가 두텁지 않아서 i번째 개체에서 적당히 떨어져 있는 이웃 j와 아주 많이 떨어져 있는 이웃 k가 선택될 확률이 크게 차이가 나지 않게 됩니다. 이를 crowding problem이라고 합니다.\n",
    "- 이들 구분을 좀 더 잘하기 위해 가우시안분포보다 꼬리가 두터운 t분포를 쓴 것이 바로 t-SNE입니다. t-SNE는 qij에만 아래와 같이 t분포를 적용하고, pij는 SNE와 같습니다.\n",
    "![formula4.png](./images/formula4.PNG)\n",
    "\n",
    "\n",
    "###  논문 관련\n",
    "- 교수님이 주신 \"Heavy-tailed kernels reveal a finer cluster structure in t-SNE visualisations\" 논문에 다음과 같은 말이 등장한다.\n",
    "    - The idea of t-SNE was to adjust the kernel transforming pairwise low-dimensional distances into affinities: **the Gaussian kernel was replaced by the heavy-tailed Cauchy kernel (t-distribution with one degree of freedom ν)**, ameliorating the crowding problem.\n",
    "    - Here, we develop an efficient implementation of t-SNE for a t-distribution kernel **with an arbitrary degree of freedom v**, with v -> infinite corresponding to SNE and v = 1 corresponding to the standard t-SNE.\n",
    "- (논문을 적당히 훑어본 비전문가피셜) 즉, 기존의 t-SNE의 경우 자유도에 있어서 한 가지 값인 1을 썼었는데, 여기서 특수한 방법으로 여러 자유도 값을 사용할 수 있게 하였다. 특히 이렇게 여러 값을 사용하면 차원 축소 후 더 정밀하게 값들이 분류되는 결과를 얻을 수 있어서 finer 하다고 표현한 것 같다.\n",
    "\n",
    "### (+a) 차원 분석\n",
    "차원 분석에 널리 쓰이고 있는 또 다른 방식은 특이값분해(SVD, Singular Value Decomposion)와 주성분분석(PCA, Principal Component Analysis)이 있다. 또한 이러한 기법이 잠재의미분석과 어떻게 연관되는지 알고 싶다면 아래 참고 링크 클릭. <br>\n",
    "[*참고*](https://ratsgo.github.io/from%20frequency%20to%20semantics/2017/04/06/pcasvdlsa/)"
   ]
  },
  {
   "cell_type": "markdown",
   "metadata": {},
   "source": [
    "# 코드 실행 관련 꼭 읽어야할 정보\n",
    "- 제가 보내드리는 압축 파일 이름은 t-SNE입니다. 그 속에는 아래와 같은 것들이 있습니다.\n",
    "    - 제가 코드 실행에 앞서 정리한 내용: \"t-SNE 정리.ipynb\" 파일\n",
    "    - 교수님이 해석하라고 하신 코드: \"finer-tsne\" 폴더 속 \"heavy-tailed-tsne.ipynb\"\n",
    "    - finer-tsne를 실행하기 위한 라이브러리: \"FIt-SNE\" 폴더\n",
    "\n",
    "\n",
    "- 여기서 핵심은 바로 finer-tsne를 실행하기 위한 라이브러리: \"FIt-SNE\" 폴더입니다. 해석하라고 하신 코드의 경우, 저희가 classifier를 간단하게 import에서 사용하듯이, fast-tsne라는 것을 간단하게 import해서 필요한 parameter들만 넣어주고 실행시키는 코드입니다.\n",
    "\n",
    "\n",
    "- 그렇다면 \"FIt-SNE\" 폴더에 무슨 작업을 하였는지 살펴보면,\n",
    "    - 교수님께서 보내주신 github의 경우 논문을 설명하는 코드인데, 여기서 사용한 t-SNE 라이브러리가 바로 [FIt-SNE](https://github.com/KlugerLab/FIt-SNE)입니다. 따라서, 교수님께서 보내주신 github 속 코드를 실행하면, 당연히 FIt-SNE 라이브러리에 대한 설치가 없어 실행이 되지 않습니다.\n",
    "    - 그래서, FIt-SNE 관련 [링크](https://github.com/KlugerLab/FIt-SNE)에 들어가 윈도우 용 설치 과정을 보면, compile을 위한 또 다른 라이브러리를 설치해라. 뭐해라 뭐해라 하는 말이 많습니다. (모든 라이브러리들은 또 다른 라이브러리와 호환성이 결여되어 있기에 사실 올바른 설치는 여러 라이브러리가 잘 호환되어 실행이 잘 되도록 묶음으로써 컴파일은 하는 것)\n",
    "    - 하지만, 컴파일은 복잡하므로, 업데이트가 앞으로 안된다는 가정하에 설치를 하는 방법은,\n",
    "        1. FIt-SNE 라이브러리를 통째로 github에서 다운로드 받는다 -> 이것이 FIt-SNE\" 폴더\n",
    "        2. Windows용 바이너리 파일을 다운로드 받아 bin 폴더에 넣어준다.\n",
    "        3. 라이브러리에 메인 코드 속 이름과 방금 다운로드 한 윈도우용 바이너리 파일 이름이 달라, 다운로드 받은 파일 이름을 FItSNE.exe에서 fast_tsne.exe로 바꾼다.\n",
    "        4. 끝.\n",
    "         \n",
    "         \n",
    "- 이런 작업을 마친 라이브러리가 바로 \"FIt-SNE\" 폴더입니다. 이 폴더 자체가 라이브러리이므로, 교수님이 해석하라고 하신 코드: \"finer-tsne\" 폴더 속 \"heavy-tailed-tsne.ipynb\" 파일에서는 이 라이브러리 폴더를 라이브러리로써 인식할 수 있도록 하는 코드를 추가하였습니다."
   ]
  },
  {
   "cell_type": "code",
   "execution_count": null,
   "metadata": {},
   "outputs": [],
   "source": []
  }
 ],
 "metadata": {
  "kernelspec": {
   "display_name": "Python 3",
   "language": "python",
   "name": "python3"
  },
  "language_info": {
   "codemirror_mode": {
    "name": "ipython",
    "version": 3
   },
   "file_extension": ".py",
   "mimetype": "text/x-python",
   "name": "python",
   "nbconvert_exporter": "python",
   "pygments_lexer": "ipython3",
   "version": "3.7.3"
  }
 },
 "nbformat": 4,
 "nbformat_minor": 2
}
