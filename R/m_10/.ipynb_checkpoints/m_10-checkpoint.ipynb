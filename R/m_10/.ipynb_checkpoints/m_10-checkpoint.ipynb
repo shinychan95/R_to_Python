{
 "cells": [
  {
   "cell_type": "markdown",
   "metadata": {},
   "source": [
    "# Chapter 10\n",
    "# Simulation\n",
    "## 10.1 Reasoning in reverse"
   ]
  },
  {
   "cell_type": "code",
   "execution_count": 1,
   "metadata": {},
   "outputs": [],
   "source": [
    "import os\n",
    "import warnings"
   ]
  },
  {
   "cell_type": "code",
   "execution_count": 2,
   "metadata": {},
   "outputs": [],
   "source": [
    "dataset = \"NCI60.csv\"\n",
    "# currnet file directory\n",
    "wd = os.getcwd()"
   ]
  },
  {
   "cell_type": "code",
   "execution_count": 5,
   "metadata": {},
   "outputs": [],
   "source": [
    "import pandas as pd # data processing, CSV file I/O\n",
    "import numpy as np\n",
    "\n",
    "# read the dataset\n",
    "NCI60=pd.read_csv(os.path.join(wd, \"data\", dataset))"
   ]
  },
  {
   "cell_type": "code",
   "execution_count": 8,
   "metadata": {},
   "outputs": [
    {
     "data": {
      "text/plain": [
       "(41078, 61)"
      ]
     },
     "execution_count": 8,
     "metadata": {},
     "output_type": "execute_result"
    }
   ],
   "source": [
    "NCI60.shape"
   ]
  },
  {
   "cell_type": "code",
   "execution_count": 9,
   "metadata": {},
   "outputs": [
    {
     "data": {
      "text/html": [
       "<div>\n",
       "<style scoped>\n",
       "    .dataframe tbody tr th:only-of-type {\n",
       "        vertical-align: middle;\n",
       "    }\n",
       "\n",
       "    .dataframe tbody tr th {\n",
       "        vertical-align: top;\n",
       "    }\n",
       "\n",
       "    .dataframe thead th {\n",
       "        text-align: right;\n",
       "    }\n",
       "</style>\n",
       "<table border=\"1\" class=\"dataframe\">\n",
       "  <thead>\n",
       "    <tr style=\"text-align: right;\">\n",
       "      <th></th>\n",
       "      <th>Probe</th>\n",
       "      <th>BR.MCF7</th>\n",
       "      <th>BR.MDA_MB_231</th>\n",
       "      <th>BR.HS578T</th>\n",
       "      <th>BR.BT_549</th>\n",
       "      <th>BR.T47D</th>\n",
       "      <th>CNS.SF_268</th>\n",
       "      <th>CNS.SF_295</th>\n",
       "      <th>CNS.SF_539</th>\n",
       "      <th>CNS.SNB_19</th>\n",
       "      <th>...</th>\n",
       "      <th>PR.PC_3</th>\n",
       "      <th>PR.DU_145</th>\n",
       "      <th>RE.786_0</th>\n",
       "      <th>RE.A498</th>\n",
       "      <th>RE.ACHN</th>\n",
       "      <th>RE.CAKI_1</th>\n",
       "      <th>RE.RXF_393</th>\n",
       "      <th>RE.SN12C</th>\n",
       "      <th>RE.TK_10</th>\n",
       "      <th>RE.UO_31</th>\n",
       "    </tr>\n",
       "  </thead>\n",
       "  <tbody>\n",
       "    <tr>\n",
       "      <td>0</td>\n",
       "      <td>AT_D_3</td>\n",
       "      <td>-7.45</td>\n",
       "      <td>-7.51</td>\n",
       "      <td>-7.30</td>\n",
       "      <td>-7.37</td>\n",
       "      <td>-6.15</td>\n",
       "      <td>-7.16</td>\n",
       "      <td>-7.03</td>\n",
       "      <td>-7.44</td>\n",
       "      <td>-7.43</td>\n",
       "      <td>...</td>\n",
       "      <td>-6.88</td>\n",
       "      <td>-6.78</td>\n",
       "      <td>-7.25</td>\n",
       "      <td>-7.17</td>\n",
       "      <td>-6.51</td>\n",
       "      <td>-6.66</td>\n",
       "      <td>-6.53</td>\n",
       "      <td>-6.86</td>\n",
       "      <td>-7.03</td>\n",
       "      <td>-6.85</td>\n",
       "    </tr>\n",
       "    <tr>\n",
       "      <td>1</td>\n",
       "      <td>AT_D_5</td>\n",
       "      <td>-7.05</td>\n",
       "      <td>-6.62</td>\n",
       "      <td>-6.88</td>\n",
       "      <td>-6.78</td>\n",
       "      <td>-7.18</td>\n",
       "      <td>-7.25</td>\n",
       "      <td>-7.22</td>\n",
       "      <td>-7.37</td>\n",
       "      <td>-7.26</td>\n",
       "      <td>...</td>\n",
       "      <td>-6.27</td>\n",
       "      <td>-7.04</td>\n",
       "      <td>-6.68</td>\n",
       "      <td>-6.83</td>\n",
       "      <td>-6.65</td>\n",
       "      <td>-6.61</td>\n",
       "      <td>-6.23</td>\n",
       "      <td>-6.74</td>\n",
       "      <td>-6.85</td>\n",
       "      <td>-6.67</td>\n",
       "    </tr>\n",
       "    <tr>\n",
       "      <td>2</td>\n",
       "      <td>AT_D_M</td>\n",
       "      <td>-7.05</td>\n",
       "      <td>-7.29</td>\n",
       "      <td>-7.30</td>\n",
       "      <td>-7.37</td>\n",
       "      <td>-7.61</td>\n",
       "      <td>-6.56</td>\n",
       "      <td>-7.63</td>\n",
       "      <td>-7.44</td>\n",
       "      <td>-7.43</td>\n",
       "      <td>...</td>\n",
       "      <td>-6.45</td>\n",
       "      <td>-7.29</td>\n",
       "      <td>-7.25</td>\n",
       "      <td>-7.14</td>\n",
       "      <td>-6.53</td>\n",
       "      <td>-6.93</td>\n",
       "      <td>-6.17</td>\n",
       "      <td>-7.20</td>\n",
       "      <td>-6.93</td>\n",
       "      <td>-6.85</td>\n",
       "    </tr>\n",
       "    <tr>\n",
       "      <td>3</td>\n",
       "      <td>AT_L_3</td>\n",
       "      <td>-7.32</td>\n",
       "      <td>-7.01</td>\n",
       "      <td>-7.22</td>\n",
       "      <td>-6.60</td>\n",
       "      <td>-7.45</td>\n",
       "      <td>-7.00</td>\n",
       "      <td>-7.32</td>\n",
       "      <td>-7.27</td>\n",
       "      <td>-7.39</td>\n",
       "      <td>...</td>\n",
       "      <td>-6.30</td>\n",
       "      <td>-7.01</td>\n",
       "      <td>-6.73</td>\n",
       "      <td>-6.50</td>\n",
       "      <td>-6.37</td>\n",
       "      <td>-6.54</td>\n",
       "      <td>-7.07</td>\n",
       "      <td>-6.86</td>\n",
       "      <td>-6.55</td>\n",
       "      <td>-6.67</td>\n",
       "    </tr>\n",
       "    <tr>\n",
       "      <td>4</td>\n",
       "      <td>AT_L_5</td>\n",
       "      <td>-7.38</td>\n",
       "      <td>-7.22</td>\n",
       "      <td>-7.30</td>\n",
       "      <td>-7.37</td>\n",
       "      <td>-7.70</td>\n",
       "      <td>-7.25</td>\n",
       "      <td>-7.61</td>\n",
       "      <td>-7.44</td>\n",
       "      <td>-7.43</td>\n",
       "      <td>...</td>\n",
       "      <td>-6.48</td>\n",
       "      <td>-7.15</td>\n",
       "      <td>-7.06</td>\n",
       "      <td>-6.44</td>\n",
       "      <td>-6.47</td>\n",
       "      <td>-6.62</td>\n",
       "      <td>-7.00</td>\n",
       "      <td>-7.22</td>\n",
       "      <td>-6.89</td>\n",
       "      <td>-6.36</td>\n",
       "    </tr>\n",
       "  </tbody>\n",
       "</table>\n",
       "<p>5 rows × 61 columns</p>\n",
       "</div>"
      ],
      "text/plain": [
       "    Probe  BR.MCF7  BR.MDA_MB_231  BR.HS578T  BR.BT_549  BR.T47D  CNS.SF_268  \\\n",
       "0  AT_D_3    -7.45          -7.51      -7.30      -7.37    -6.15       -7.16   \n",
       "1  AT_D_5    -7.05          -6.62      -6.88      -6.78    -7.18       -7.25   \n",
       "2  AT_D_M    -7.05          -7.29      -7.30      -7.37    -7.61       -6.56   \n",
       "3  AT_L_3    -7.32          -7.01      -7.22      -6.60    -7.45       -7.00   \n",
       "4  AT_L_5    -7.38          -7.22      -7.30      -7.37    -7.70       -7.25   \n",
       "\n",
       "   CNS.SF_295  CNS.SF_539  CNS.SNB_19  ...  PR.PC_3  PR.DU_145  RE.786_0  \\\n",
       "0       -7.03       -7.44       -7.43  ...    -6.88      -6.78     -7.25   \n",
       "1       -7.22       -7.37       -7.26  ...    -6.27      -7.04     -6.68   \n",
       "2       -7.63       -7.44       -7.43  ...    -6.45      -7.29     -7.25   \n",
       "3       -7.32       -7.27       -7.39  ...    -6.30      -7.01     -6.73   \n",
       "4       -7.61       -7.44       -7.43  ...    -6.48      -7.15     -7.06   \n",
       "\n",
       "   RE.A498  RE.ACHN  RE.CAKI_1  RE.RXF_393  RE.SN12C  RE.TK_10  RE.UO_31  \n",
       "0    -7.17    -6.51      -6.66       -6.53     -6.86     -7.03     -6.85  \n",
       "1    -6.83    -6.65      -6.61       -6.23     -6.74     -6.85     -6.67  \n",
       "2    -7.14    -6.53      -6.93       -6.17     -7.20     -6.93     -6.85  \n",
       "3    -6.50    -6.37      -6.54       -7.07     -6.86     -6.55     -6.67  \n",
       "4    -6.44    -6.47      -6.62       -7.00     -7.22     -6.89     -6.36  \n",
       "\n",
       "[5 rows x 61 columns]"
      ]
     },
     "execution_count": 9,
     "metadata": {},
     "output_type": "execute_result"
    }
   ],
   "source": [
    "NCI60.head()"
   ]
  },
  {
   "cell_type": "code",
   "execution_count": 22,
   "metadata": {},
   "outputs": [
    {
     "data": {
      "text/plain": [
       "0.3171467072165579"
      ]
     },
     "execution_count": 22,
     "metadata": {},
     "output_type": "execute_result"
    }
   ],
   "source": [
    "NCI60.loc[0][1:].astype(float).std()"
   ]
  },
  {
   "cell_type": "code",
   "execution_count": null,
   "metadata": {},
   "outputs": [],
   "source": []
  }
 ],
 "metadata": {
  "kernelspec": {
   "display_name": "Python 3",
   "language": "python",
   "name": "python3"
  },
  "language_info": {
   "codemirror_mode": {
    "name": "ipython",
    "version": 3
   },
   "file_extension": ".py",
   "mimetype": "text/x-python",
   "name": "python",
   "nbconvert_exporter": "python",
   "pygments_lexer": "ipython3",
   "version": "3.7.4"
  }
 },
 "nbformat": 4,
 "nbformat_minor": 2
}
